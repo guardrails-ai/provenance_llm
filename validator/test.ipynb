{
 "cells": [
  {
   "cell_type": "code",
   "execution_count": 1,
   "metadata": {},
   "outputs": [
    {
     "name": "stderr",
     "output_type": "stream",
     "text": [
      "/Users/wyatt/Projects/provenance_llm/.venv/lib/python3.10/site-packages/tqdm/auto.py:21: TqdmWarning: IProgress not found. Please update jupyter and ipywidgets. See https://ipywidgets.readthedocs.io/en/stable/user_install.html\n",
      "  from .autonotebook import tqdm as notebook_tqdm\n"
     ]
    }
   ],
   "source": [
    "from main import ProvenanceLLM\n",
    "\n",
    "prov = ProvenanceLLM()\n",
    "# Load model for embedding function\n",
    "from sentence_transformers import SentenceTransformer"
   ]
  },
  {
   "cell_type": "code",
   "execution_count": 2,
   "metadata": {},
   "outputs": [
    {
     "name": "stdout",
     "output_type": "stream",
     "text": [
      "pass outcome='pass' metadata={'sources': ['Chocolate is the best food']} value_override=<class 'guardrails.validator_base.PassResult.ValueOverrideSentinel'>\n",
      "fail outcome='fail' metadata={'sources': ['Chocolate is the best food']} error_message='{\"match_string\": \".\", \"violation\": \"ProvenanceLLM\", \"error_msg\": \"The following sentence is not supported: .\", \"fix_value\": null}' fix_value=None\n",
      "fail outcome='fail' metadata={'sources': ['Chocolate is the best food']} error_message='{\"match_string\": \".\", \"violation\": \"ProvenanceLLM\", \"error_msg\": \"The following sentence is not supported: .\", \"fix_value\": null}' fix_value=None\n",
      "pass outcome='pass' metadata={'sources': ['Chocolate is the best food']} value_override=<class 'guardrails.validator_base.PassResult.ValueOverrideSentinel'>\n",
      "pass outcome='pass' metadata={'sources': ['Chocolate is the best food']} value_override=<class 'guardrails.validator_base.PassResult.ValueOverrideSentinel'>\n",
      "pass outcome='pass' metadata={'sources': ['Chocolate is the best food']} value_override=<class 'guardrails.validator_base.PassResult.ValueOverrideSentinel'>\n",
      "pass outcome='fail' metadata={'sources': ['Chocolate is the best food']} error_message='{\"match_string\": \".\", \"violation\": \"ProvenanceLLM\", \"error_msg\": \"The following sentence is not supported: .\", \"fix_value\": null}' fix_value=None\n",
      "pass outcome='pass' metadata={'sources': ['Chocolate is the best food']} value_override=<class 'guardrails.validator_base.PassResult.ValueOverrideSentinel'>\n",
      "fail outcome='fail' metadata={'sources': ['Chocolate is the best food']} error_message='{\"match_string\": \".\", \"violation\": \"ProvenanceLLM\", \"error_msg\": \"The following sentence is not supported: .\", \"fix_value\": null}' fix_value=None\n"
     ]
    }
   ],
   "source": [
    "result = prov.validate(\"TESTing \", metadata={\"sources\": [\"Chocolate is the best food\"]})\n",
    "print(\"pass\", result)\n",
    "result = prov.validate(\"TEST.\", metadata={\"sources\": [\"Chocolate is the best food\"]})\n",
    "print(\"fail\", result)\n",
    "result = prov.validate(\n",
    "    \"TESTing a sentence.\", metadata={\"sources\": [\"Chocolate is the best food\"]}\n",
    ")\n",
    "print(\"fail\", result)\n",
    "result = prov.validate(\n",
    "    \"TESTing a sentence. More test\",\n",
    "    metadata={\"sources\": [\"Chocolate is the best food\"]},\n",
    ")\n",
    "print(\"pass\", result)\n",
    "result = prov.validate(\n",
    "    \"TESTing a sentence. More test\",\n",
    "    metadata={\"sources\": [\"Chocolate is the best food\"]},\n",
    ")\n",
    "print(\"pass\", result)\n",
    "result = prov.validate(\n",
    "    \"TESTing a sentence. Chocolate is good\",\n",
    "    metadata={\"sources\": [\"Chocolate is the best food\"]},\n",
    ")\n",
    "print(\"pass\", result)\n",
    "result = prov.validate(\n",
    "    \"TESTing a sentence. Chocolate is good.\",\n",
    "    metadata={\"sources\": [\"Chocolate is the best food\"]},\n",
    ")\n",
    "print(\"pass\", result)\n",
    "result = prov.validate(\n",
    "    \"TESTing a sentence. Chocolate is good. Testing another sentence\",\n",
    "    metadata={\"sources\": [\"Chocolate is the best food\"]},\n",
    ")\n",
    "print(\"pass\", result)\n",
    "result = prov.validate(\n",
    "    \"TESTing a sentence. Chocolate is good. Testing another sentence.\",\n",
    "    metadata={\"sources\": [\"Chocolate is the best food\"]},\n",
    ")\n",
    "print(\"fail\", result)"
   ]
  }
 ],
 "metadata": {
  "kernelspec": {
   "display_name": ".venv",
   "language": "python",
   "name": "python3"
  },
  "language_info": {
   "codemirror_mode": {
    "name": "ipython",
    "version": 3
   },
   "file_extension": ".py",
   "mimetype": "text/x-python",
   "name": "python",
   "nbconvert_exporter": "python",
   "pygments_lexer": "ipython3",
   "version": "3.10.3"
  }
 },
 "nbformat": 4,
 "nbformat_minor": 2
}
