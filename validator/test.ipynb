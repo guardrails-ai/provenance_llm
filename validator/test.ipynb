{
 "cells": [
  {
   "cell_type": "code",
   "execution_count": 1,
   "metadata": {},
   "outputs": [
    {
     "name": "stderr",
     "output_type": "stream",
     "text": [
      "/Users/wyatt/Projects/provenance_llm/.venv/lib/python3.10/site-packages/tqdm/auto.py:21: TqdmWarning: IProgress not found. Please update jupyter and ipywidgets. See https://ipywidgets.readthedocs.io/en/stable/user_install.html\n",
      "  from .autonotebook import tqdm as notebook_tqdm\n"
     ]
    }
   ],
   "source": [
    "from main import ProvenanceLLM\n",
    "\n",
    "prov = ProvenanceLLM()\n",
    "# Load model for embedding function\n",
    "from sentence_transformers import SentenceTransformer\n",
    "\n",
    "MODEL = SentenceTransformer(\"paraphrase-MiniLM-L6-v2\")\n",
    "\n",
    "\n",
    "# Create embed function\n",
    "def embed_function(sources: list[str]):\n",
    "    return MODEL.encode(sources)\n",
    "\n",
    "\n"
   ]
  },
  {
   "cell_type": "code",
   "execution_count": 4,
   "metadata": {},
   "outputs": [
    {
     "name": "stdout",
     "output_type": "stream",
     "text": [
      "outcome='pass' metadata={'sources': ['Chocolate is the best food'], 'embed_function': <function embed_function at 0x2f1cea0e0>} value_override=<class 'guardrails.validator_base.PassResult.ValueOverrideSentinel'>\n",
      "outcome='fail' metadata={'sources': ['Chocolate is the best food'], 'embed_function': <function embed_function at 0x2f1cea0e0>} error_message='The following sentence is not supported: .' fix_value=None\n",
      "outcome='fail' metadata={'sources': ['Chocolate is the best food'], 'embed_function': <function embed_function at 0x2f1cea0e0>} error_message='The following sentence is not supported: .' fix_value=None\n",
      "outcome='pass' metadata={'sources': ['Chocolate is the best food'], 'embed_function': <function embed_function at 0x2f1cea0e0>} value_override=<class 'guardrails.validator_base.PassResult.ValueOverrideSentinel'>\n",
      "outcome='pass' metadata={'sources': ['Chocolate is the best food'], 'embed_function': <function embed_function at 0x2f1cea0e0>} value_override=<class 'guardrails.validator_base.PassResult.ValueOverrideSentinel'>\n",
      "outcome='pass' metadata={'sources': ['Chocolate is the best food'], 'embed_function': <function embed_function at 0x2f1cea0e0>} value_override=<class 'guardrails.validator_base.PassResult.ValueOverrideSentinel'>\n",
      "outcome='fail' metadata={'sources': ['Chocolate is the best food'], 'embed_function': <function embed_function at 0x2f1cea0e0>} error_message='The following sentence is not supported: .' fix_value=None\n",
      "outcome='pass' metadata={'sources': ['Chocolate is the best food'], 'embed_function': <function embed_function at 0x2f1cea0e0>} value_override=<class 'guardrails.validator_base.PassResult.ValueOverrideSentinel'>\n",
      "outcome='fail' metadata={'sources': ['Chocolate is the best food'], 'embed_function': <function embed_function at 0x2f1cea0e0>} error_message='The following sentence is not supported: .' fix_value=None\n"
     ]
    }
   ],
   "source": [
    "result = prov.validate(\"TESTing \", metadata={\"sources\": [\"Chocolate is the best food\"], \"embed_function\": embed_function})\n",
    "print(result)\n",
    "result = prov.validate(\"TEST.\", metadata={\"sources\": [\"Chocolate is the best food\"], \"embed_function\": embed_function})\n",
    "print(result)\n",
    "result = prov.validate(\"TESTing a sentence.\", metadata={\"sources\": [\"Chocolate is the best food\"], \"embed_function\": embed_function})\n",
    "print(result)\n",
    "result = prov.validate(\"TESTing a sentence. More test\", metadata={\"sources\": [\"Chocolate is the best food\"], \"embed_function\": embed_function})\n",
    "print(result)\n",
    "result = prov.validate(\"TESTing a sentence. More test\", metadata={\"sources\": [\"Chocolate is the best food\"], \"embed_function\": embed_function})\n",
    "print(result)\n",
    "result = prov.validate(\"TESTing a sentence. Chocolate is good\", metadata={\"sources\": [\"Chocolate is the best food\"], \"embed_function\": embed_function})\n",
    "print(result)\n",
    "result = prov.validate(\"TESTing a sentence. Chocolate is good.\", metadata={\"sources\": [\"Chocolate is the best food\"], \"embed_function\": embed_function})\n",
    "print(result)\n",
    "result = prov.validate(\"TESTing a sentence. Chocolate is good. Testing another sentence\", metadata={\"sources\": [\"Chocolate is the best food\"], \"embed_function\": embed_function})\n",
    "print(result)\n",
    "result = prov.validate(\"TESTing a sentence. Chocolate is good. Testing another sentence.\", metadata={\"sources\": [\"Chocolate is the best food\"], \"embed_function\": embed_function})\n",
    "print(result)"
   ]
  }
 ],
 "metadata": {
  "kernelspec": {
   "display_name": ".venv",
   "language": "python",
   "name": "python3"
  },
  "language_info": {
   "codemirror_mode": {
    "name": "ipython",
    "version": 3
   },
   "file_extension": ".py",
   "mimetype": "text/x-python",
   "name": "python",
   "nbconvert_exporter": "python",
   "pygments_lexer": "ipython3",
   "version": "3.10.3"
  }
 },
 "nbformat": 4,
 "nbformat_minor": 2
}
